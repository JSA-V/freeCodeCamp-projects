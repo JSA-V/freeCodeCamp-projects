{
  "cells": [
    {
      "cell_type": "markdown",
      "execution_count": null,
        "outputs": [],
      "metadata": {
        "id": "view-in-github",
        "colab_type": "text"
      },
      "source": [
        "<a href=\"https://colab.research.google.com/github/JSA-V/freeCodeCamp-projects/blob/main/fcc_sms_text_classification.ipynb\" target=\"_parent\"><img src=\"https://colab.research.google.com/assets/colab-badge.svg\" alt=\"Open In Colab\"/></a>"
      ]
    },
    {
      "cell_type": "code",
      "execution_count": null,
        "outputs": [],
      "metadata": {
        "id": "8RZOuS9LWQvv"
      },
      "outputs": [],
      "source": [
        "# import libraries\n",
        "\n",
        "import tensorflow as tf\n",
        "import pandas as pd\n",
        "from tensorflow import keras\n",
        "import tensorflow_datasets as tfds\n",
        "import numpy as np\n",
        "import matplotlib.pyplot as plt"
      ]
    },
    {
      "cell_type": "code",
      "execution_count": null,
      "outputs": [],
      "metadata": {
        "id": "lMHwYXHXCar3",
        "colab": {
          "base_uri": "https://localhost:8080/"
        },
        "outputId": "6e4f5ac5-bf36-4510-bff2-ceb92ea67223"
      },
      "outputs": [
        {
          "output_type": "stream",
          "name": "stdout",
          "text": [
            "--2022-11-20 16:18:54--  https://cdn.freecodecamp.org/project-data/sms/train-data.tsv\n",
            "Resolving cdn.freecodecamp.org (cdn.freecodecamp.org)... 104.26.3.33, 172.67.70.149, 104.26.2.33, ...\n",
            "Connecting to cdn.freecodecamp.org (cdn.freecodecamp.org)|104.26.3.33|:443... connected.\n",
            "HTTP request sent, awaiting response... 200 OK\n",
            "Length: 358233 (350K) [text/tab-separated-values]\n",
            "Saving to: ‘train-data.tsv’\n",
            "\n",
            "\rtrain-data.tsv        0%[                    ]       0  --.-KB/s               \rtrain-data.tsv      100%[===================>] 349.84K  --.-KB/s    in 0.007s  \n",
            "\n",
            "2022-11-20 16:18:54 (47.2 MB/s) - ‘train-data.tsv’ saved [358233/358233]\n",
            "\n",
            "--2022-11-20 16:18:54--  https://cdn.freecodecamp.org/project-data/sms/valid-data.tsv\n",
            "Resolving cdn.freecodecamp.org (cdn.freecodecamp.org)... 104.26.3.33, 172.67.70.149, 104.26.2.33, ...\n",
            "Connecting to cdn.freecodecamp.org (cdn.freecodecamp.org)|104.26.3.33|:443... connected.\n",
            "HTTP request sent, awaiting response... 200 OK\n",
            "Length: 118774 (116K) [text/tab-separated-values]\n",
            "Saving to: ‘valid-data.tsv’\n",
            "\n",
            "valid-data.tsv      100%[===================>] 115.99K  --.-KB/s    in 0.003s  \n",
            "\n",
            "2022-11-20 16:18:54 (42.2 MB/s) - ‘valid-data.tsv’ saved [118774/118774]\n",
            "\n"
          ]
        }
      ],
      "source": [
        "# get data files\n",
        "!wget https://cdn.freecodecamp.org/project-data/sms/train-data.tsv\n",
        "!wget https://cdn.freecodecamp.org/project-data/sms/valid-data.tsv\n",
        "\n",
        "train_file_path = \"train-data.tsv\"\n",
        "test_file_path = \"valid-data.tsv\""
      ]
    },
    {
      "cell_type": "code",
      "execution_count": null,
      "metadata": {
        "id": "g_h508FEClxO",
        "colab": {
          "base_uri": "https://localhost:8080/"
        },
        "outputId": "d000d37f-a663-4605-a80e-5693ee09549b"
      },
      "outputs": [
        {
          "output_type": "stream",
          "name": "stdout",
          "text": [
            "(4179,) (1392,) 0.3330940416367552\n"
          ]
        }
      ],
      "source": [
        "# read data\n",
        "\n",
        "train=pd.read_csv('train-data.tsv', sep='\\t',names=['label','SMS'])\n",
        "train['label'].replace(['ham','spam'],[0,1],inplace=True)\n",
        "test=pd.read_csv('valid-data.tsv', sep='\\t',names=['label','SMS'])\n",
        "test['label'].replace(['ham','spam'],[0,1],inplace=True)\n",
        "\n",
        "train_data,train_labels=train['SMS'].to_numpy(), train['label'].to_numpy()\n",
        "test_data,test_labels=test['SMS'].to_numpy(), test['label'].to_numpy()\n",
        "\n",
        "\n",
        "print(train_data.shape,test_data.shape,test_data.shape[0]/train_data.shape[0])\n",
        " \n",
        "train=tf.data.Dataset.from_tensor_slices((train_data, train_labels))\n",
        "test=tf.data.Dataset.from_tensor_slices((test_data, test_labels))\n"
      ]
    },
    {
      "cell_type": "code",
      "source": [
        "# shuffle and create batches\n",
        "\n",
        "BUFFER_SIZE = 100\n",
        "BATCH_SIZE = 32\n",
        "\n",
        "train = train.shuffle(BUFFER_SIZE).batch(BATCH_SIZE).prefetch(tf.data.AUTOTUNE)\n",
        "test = test.batch(BATCH_SIZE).prefetch(tf.data.AUTOTUNE)"
      ],
      "metadata": {
        "id": "y3MzNjYVj7WS"
      },
      "execution_count": null,
      "outputs": []
    },
    {
      "cell_type": "code",
      "execution_count": null,
      "metadata": {
        "id": "zOMKywn4zReN",
        "colab": {
          "base_uri": "https://localhost:8080/"
        },
        "outputId": "302569bb-fe0a-4d8d-a704-c88c3823b31f"
      },
      "outputs": [
        {
          "output_type": "stream",
          "name": "stdout",
          "text": [
            "Original:  Hello, I'm Mickey Mouse\n",
            "Round-trip:  hello im [UNK] [UNK]\n",
            "\n"
          ]
        }
      ],
      "source": [
        "# vectorization process\n",
        "\n",
        "from keras.layers import TextVectorization\n",
        "\n",
        "MAX_SEQUENCE_LENGTH = 250\n",
        "\n",
        "vectorization_layer = TextVectorization(\n",
        "    output_mode='int',\n",
        "    output_sequence_length=MAX_SEQUENCE_LENGTH)\n",
        "vectorization_layer.adapt(train.map(lambda SMS, label: SMS))\n",
        "vocab = np.array(vectorization_layer.get_vocabulary())# learn vocabulary\n",
        "VOCAB_SIZE=len(vocab) \n",
        "\n",
        "example=\"Hello, I'm Mickey Mouse\"\n",
        "encoded_example=vectorization_layer(example).numpy()[:4]\n",
        "\n",
        "\n",
        "print(\"Original: \", example)\n",
        "print(\"Round-trip: \", \" \".join(vocab[encoded_example]))\n",
        "print()"
      ]
    },
    {
      "cell_type": "code",
      "source": [
        "# model\n",
        "\n",
        "model = tf.keras.Sequential([\n",
        "    vectorization_layer,\n",
        "    tf.keras.layers.Embedding(\n",
        "        VOCAB_SIZE+1,\n",
        "        64,\n",
        "        mask_zero=True),\n",
        "    tf.keras.layers.Bidirectional(tf.keras.layers.LSTM(64)),\n",
        "    tf.keras.layers.Dense(64, activation='relu'),\n",
        "    tf.keras.layers.Dense(1,activation=\"sigmoid\")])\n",
        "\n",
        "model.compile(loss='binary_crossentropy',\n",
        "              optimizer=tf.keras.optimizers.Adam(1e-4),\n",
        "              metrics=['accuracy'])\n",
        "\n",
        "#model.compile(loss=tf.keras.losses.BinaryCrossentropy(from_logits=True),\n",
        "#             optimizer=tf.keras.optimizers.Adam(1e-4),\n",
        "#             metrics=['accuracy'])\n",
        "\n",
        "history = model.fit(train, epochs=10,validation_data=test,validation_steps=30)\n"
      ],
      "metadata": {
        "colab": {
          "base_uri": "https://localhost:8080/"
        },
        "id": "aDBQ9SnL4Yuv",
        "outputId": "b138903b-b7bd-4f5a-a16b-e78d76f8e268"
      },
      "execution_count": null,
      "outputs": [
        {
          "output_type": "stream",
          "name": "stdout",
          "text": [
            "Epoch 1/10\n",
            "131/131 [==============================] - 19s 58ms/step - loss: 0.6181 - accuracy: 0.8533 - val_loss: 0.4840 - val_accuracy: 0.8604\n",
            "Epoch 2/10\n",
            "131/131 [==============================] - 4s 32ms/step - loss: 0.3454 - accuracy: 0.8823 - val_loss: 0.2119 - val_accuracy: 0.9323\n",
            "Epoch 3/10\n",
            "131/131 [==============================] - 5s 35ms/step - loss: 0.1385 - accuracy: 0.9754 - val_loss: 0.0879 - val_accuracy: 0.9833\n",
            "Epoch 4/10\n",
            "131/131 [==============================] - 4s 31ms/step - loss: 0.0636 - accuracy: 0.9883 - val_loss: 0.0587 - val_accuracy: 0.9885\n",
            "Epoch 5/10\n",
            "131/131 [==============================] - 4s 32ms/step - loss: 0.0379 - accuracy: 0.9935 - val_loss: 0.0525 - val_accuracy: 0.9865\n",
            "Epoch 6/10\n",
            "131/131 [==============================] - 4s 32ms/step - loss: 0.0252 - accuracy: 0.9962 - val_loss: 0.0532 - val_accuracy: 0.9844\n",
            "Epoch 7/10\n",
            "131/131 [==============================] - 4s 32ms/step - loss: 0.0170 - accuracy: 0.9983 - val_loss: 0.0551 - val_accuracy: 0.9823\n",
            "Epoch 8/10\n",
            "131/131 [==============================] - 4s 31ms/step - loss: 0.0123 - accuracy: 0.9988 - val_loss: 0.0617 - val_accuracy: 0.9823\n",
            "Epoch 9/10\n",
            "131/131 [==============================] - 4s 30ms/step - loss: 0.0093 - accuracy: 0.9990 - val_loss: 0.0559 - val_accuracy: 0.9844\n",
            "Epoch 10/10\n",
            "131/131 [==============================] - 4s 31ms/step - loss: 0.0072 - accuracy: 0.9993 - val_loss: 0.0559 - val_accuracy: 0.9833\n"
          ]
        }
      ]
    },
    {
      "cell_type": "code",
      "source": [
        "# history plot\n",
        "\n",
        "import matplotlib.pyplot as plt\n",
        "\n",
        "def plot_graphs(history, metric):\n",
        "  plt.plot(history.history[metric])\n",
        "  plt.plot(history.history['val_'+metric], '')\n",
        "  plt.xlabel(\"Epochs\")\n",
        "  plt.ylabel(metric)\n",
        "  plt.legend([metric, 'val_'+metric])\n",
        "\n",
        "test_loss, test_acc = model.evaluate(test)\n",
        "plt.figure(figsize=(16, 6))\n",
        "plt.subplot(1, 2, 1)\n",
        "plot_graphs(history, 'accuracy')\n",
        "plt.subplot(1, 2, 2)\n",
        "plot_graphs(history, 'loss')"
      ],
      "metadata": {
        "colab": {
          "base_uri": "https://localhost:8080/",
          "height": 342
        },
        "id": "5I1QISdXvS-S",
        "outputId": "d3187d65-ac89-4e9b-abdf-ff87de71d3b1"
      },
      "execution_count": null,
      "outputs": [
        {
          "output_type": "stream",
          "name": "stdout",
          "text": [
            "44/44 [==============================] - 0s 7ms/step - loss: 0.0563 - accuracy: 0.9828\n"
          ]
        },
        {
          "output_type": "display_data",
          "data": {
            "text/plain": [
              "<Figure size 1152x432 with 2 Axes>"
            ],
            "image/png": "[encoded data removed]"
          },
          "metadata": {
            "needs_background": "light"
          }
        }
      ]
    },
    {
      "cell_type": "code",
      "execution_count": null,
      "metadata": {
        "id": "J9tD9yACG6M9",
        "colab": {
          "base_uri": "https://localhost:8080/"
        },
        "outputId": "5717bfa4-dbb2-49a8-d175-98fc5fbd5ceb"
      },
      "outputs": [
        {
          "output_type": "stream",
          "name": "stdout",
          "text": [
            "1/1 [==============================] - 2s 2s/step\n",
            "[0.00083001255, 'ham']\n"
          ]
        }
      ],
      "source": [
        "# function to predict messages based on model\n",
        "# (should return list containing prediction and label, ex. [0.008318834938108921, 'ham'])\n",
        "def predict_message(pred_text):\n",
        "  p=model.predict(np.array([pred_text]))[0][0]\n",
        "  return [p]+['ham' if p <0.5 else 'spam']\n",
        "\n",
        "pred_text = \"how are you doing today?\"\n",
        "prediction = predict_message(pred_text)\n",
        "print(prediction)"
      ]
    },
    {
      "cell_type": "code",
      "execution_count": null,
      "metadata": {
        "id": "Dxotov85SjsC",
        "colab": {
          "base_uri": "https://localhost:8080/"
        },
        "outputId": "0fc99872-75c7-4c32-9ca6-879b6a38d1f1"
      },
      "outputs": [
        {
          "output_type": "stream",
          "name": "stdout",
          "text": [
            "1/1 [==============================] - 0s 19ms/step\n",
            "1/1 [==============================] - 0s 17ms/step\n",
            "1/1 [==============================] - 0s 16ms/step\n",
            "1/1 [==============================] - 0s 18ms/step\n",
            "1/1 [==============================] - 0s 20ms/step\n",
            "1/1 [==============================] - 0s 16ms/step\n",
            "1/1 [==============================] - 0s 16ms/step\n",
            "You passed the challenge. Great job!\n"
          ]
        }
      ],
      "source": [
        "# Run this cell to test your function and model. Do not modify contents.\n",
        "def test_predictions():\n",
        "  test_messages = [\"how are you doing today\",\n",
        "                   \"sale today! to stop texts call 98912460324\",\n",
        "                   \"i dont want to go. can we try it a different day? available sat\",\n",
        "                   \"our new mobile video service is live. just install on your phone to start watching.\",\n",
        "                   \"you have won £1000 cash! call to claim your prize.\",\n",
        "                   \"i'll bring it tomorrow. don't forget the milk.\",\n",
        "                   \"wow, is your arm alright. that happened to me one time too\"\n",
        "                  ]\n",
        "\n",
        "  test_answers = [\"ham\", \"spam\", \"ham\", \"spam\", \"spam\", \"ham\", \"ham\"]\n",
        "  passed = True\n",
        "\n",
        "  for msg, ans in zip(test_messages, test_answers):\n",
        "    prediction = predict_message(msg)\n",
        "    #print(prediction[0])\n",
        "    if prediction[1] != ans:\n",
        "      passed = False\n",
        "\n",
        "  if passed:\n",
        "    print(\"You passed the challenge. Great job!\")\n",
        "  else:\n",
        "    print(\"You haven't passed yet. Keep trying.\")\n",
        "\n",
        "test_predictions()\n"
      ]
    }
  ],
  "metadata": {
    "colab": {
      "provenance": [],
      "include_colab_link": true
    },
    "kernelspec": {
      "display_name": "Python 3",
      "name": "python3"
    },
    "language_info": {},
    "gpuClass": "standard",
    "accelerator": "GPU"
  },
  "nbformat": 4,
  "nbformat_minor": 0
}
